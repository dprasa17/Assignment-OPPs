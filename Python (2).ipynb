{
  "nbformat": 4,
  "nbformat_minor": 0,
  "metadata": {
    "colab": {
      "provenance": []
    },
    "kernelspec": {
      "name": "python3",
      "display_name": "Python 3"
    },
    "language_info": {
      "name": "python"
    }
  },
  "cells": [
    {
      "cell_type": "markdown",
      "source": [
        "Python **OOPs** - Assignment"
      ],
      "metadata": {
        "id": "4s6DBw2tACk6"
      }
    },
    {
      "cell_type": "code",
      "execution_count": null,
      "metadata": {
        "id": "1q-RxxrK_7-Q"
      },
      "outputs": [],
      "source": []
    },
    {
      "cell_type": "markdown",
      "source": [
        "Question-1,What is Object-Oriented Programming (OOP)?\n",
        "\n",
        "Answer-1.Object-Oriented Programming (OOP) is a programming paradigm that revolves around the concept of objects and classes. It's a way of designing and organizing code that simulates real-world objects and systems.\n",
        "\n",
        "Key Principles of OOP:\n",
        "\n",
        "1. Encapsulation: Bundling data and methods that operate on that data within a single unit (class or object).\n",
        "2. Abstraction: Hiding implementation details and showing only the necessary information to the outside world.\n",
        "3. Inheritance: Creating a new class based on an existing class, inheriting its properties and behavior.\n",
        "4. Polymorphism: The ability of an object to take on multiple forms, depending on the context in which it's used.\n",
        "\n",
        "Benefits of OOP:\n",
        "\n",
        "1. Modularity: OOP promotes modular code, making it easier to maintain, update, and reuse.\n",
        "2. Reusability: Classes and objects can be reused in different parts of the program, reducing code duplication.\n",
        "3. Easier Debugging: With OOP, it's easier to identify and fix errors, as the code is more organized and structured.\n",
        "4. Improved Readability: OOP promotes self-documenting code, making it easier for developers to understand the code's intent and behavior.\n",
        "\n",
        "Common OOP Concepts:\n",
        "\n",
        "1. Classes: Blueprints or templates for creating objects.\n",
        "2. Objects: Instances of classes, with their own set of attributes (data) and methods (functions).\n",
        "3. Methods: Functions that belong to a class or object, used to perform specific actions.\n",
        "4. Attributes: Data members of a class or object, used to store and manipulate data.\n",
        "\n",
        "Real-World Analogy:\n",
        "\n",
        "Think of a car as an object. It has attributes like color, model, and year, and methods like start engine, accelerate, and brake. You can create multiple instances of the Car class, each with its own set of attributes and behaviors.\n",
        "\n",
        "By applying OOP principles, developers can create more maintainable, scalable, and efficient software systems that model real-world objects and relationships."
      ],
      "metadata": {
        "id": "TqBsz8H7AUDk"
      }
    },
    {
      "cell_type": "markdown",
      "source": [
        "Question-2.What is a class in OOP?\n",
        "\n",
        "Answer-2.Class in OOP\n",
        "\n",
        "In Object-Oriented Programming (OOP), a class is a blueprint or template that defines the properties and behavior of an object. It's a abstract concept that represents a set of objects that share similar characteristics and behaviors.\n",
        "\n",
        "Key Features of a Class:\n",
        "\n",
        "1. Attributes: Data members of a class, used to store and manipulate data.\n",
        "2. Methods: Functions that belong to a class, used to perform specific actions.\n",
        "3. Constructor: A special method used to initialize objects when they're created.\n",
        "\n",
        "Purpose of a Class:\n",
        "\n",
        "1. Define Structure: A class defines the structure of an object, including its attributes and methods.\n",
        "2. Create Objects: A class is used to create multiple objects that share similar characteristics and behaviors.\n",
        "3. Encapsulate Data: A class encapsulates data and behavior, making it easier to manage complexity and ensure data integrity.\n",
        "\n",
        "Real-World Analogy:\n",
        "\n",
        "Think of a car blueprint as a class. The blueprint defines the characteristics of a car, such as its make, model, and features. Using this blueprint, you can create multiple cars that share similar characteristics and behaviors.\n",
        "\n",
        "Benefits of Using Classes:\n",
        "\n",
        "1. Code Reusability: Classes enable code reusability, reducing duplication and improving maintainability.\n",
        "2. Modularity: Classes promote modularity, making it easier to manage complexity and update code.\n",
        "3. Easier Debugging: Classes make it easier to identify and fix errors, as the code is more organized and structured.\n",
        "\n",
        "By using classes, developers can create more maintainable, scalable, and efficient software systems that model real-world objects and relationships."
      ],
      "metadata": {
        "id": "NPGi_7EwBIO7"
      }
    },
    {
      "cell_type": "markdown",
      "source": [
        "Question-3.What is an object in OOP?\n",
        "\n",
        "Answer-3.Object in OOP\n",
        "\n",
        "In Object-Oriented Programming (OOP), an object is an instance of a class. It represents a real-world entity or concept, and has its own set of attributes (data) and methods (functions).\n",
        "\n",
        "Key Features of an Object:\n",
        "\n",
        "1. Attributes: Data members of an object, used to store and manipulate data.\n",
        "2. Methods: Functions that belong to an object, used to perform specific actions.\n",
        "3. State: An object's state is defined by its attributes, which can change over time.\n",
        "4. Behavior: An object's behavior is defined by its methods, which determine how it interacts with other objects.\n",
        "\n",
        "Characteristics of an Object:\n",
        "\n",
        "1. Identity: Each object has a unique identity, which distinguishes it from other objects.\n",
        "2. State: An object's state can change over time, as its attributes are modified.\n",
        "3. Behavior: An object's behavior is determined by its methods, which can be called to perform specific actions.\n",
        "\n",
        "Real-World Analogy:\n",
        "\n",
        "Think of a car as an object. It has attributes like color, model, and year, and methods like start engine, accelerate, and brake. Each car object has its own unique identity, state, and behavior.\n",
        "\n",
        "Benefits of Using Objects:\n",
        "\n",
        "1. Modularity: Objects promote modularity, making it easier to manage complexity and update code.\n",
        "2. Reusability: Objects can be reused in different parts of the program, reducing code duplication.\n",
        "3. Easier Debugging: Objects make it easier to identify and fix errors, as the code is more organized and structured.\n",
        "\n",
        "By using objects, developers can create more maintainable, scalable, and efficient software systems that model real-world objects and relationships."
      ],
      "metadata": {
        "id": "a2NE3Z9TBffk"
      }
    },
    {
      "cell_type": "markdown",
      "source": [
        "Question-4.What is the difference between abstraction and encapsulation\n",
        "\n",
        "Answer-4.Abstraction vs Encapsulation\n",
        "\n",
        "Abstraction and encapsulation are two fundamental concepts in Object-Oriented Programming (OOP). While they're related, they serve distinct purposes:\n",
        "\n",
        "Abstraction:\n",
        "\n",
        "1. Hiding complexity: Abstraction hides the implementation details of an object or system, showing only the necessary information to the outside world.\n",
        "2. Focusing on essentials: Abstraction helps focus on the essential features and behaviors of an object or system, ignoring non-essential details.\n",
        "3. Simplifying complexity: Abstraction simplifies complex systems by exposing only the necessary information, making it easier to understand and interact with.\n",
        "\n",
        "Encapsulation:\n",
        "\n",
        "1. Bundling data and behavior: Encapsulation bundles data and behavior (methods) within a single unit (object or class), hiding the implementation details from the outside world.\n",
        "2. Protecting data: Encapsulation protects data from external interference and misuse by controlling access to it through methods.\n",
        "3. Improving code organization: Encapsulation improves code organization by keeping related data and behavior together, making it easier to maintain and update.\n",
        "\n",
        "Key differences:\n",
        "\n",
        "1. Purpose: Abstraction focuses on hiding complexity and showing only essential information, while encapsulation focuses on bundling data and behavior and protecting data.\n",
        "2. Scope: Abstraction is a broader concept that applies to systems and objects, while encapsulation is a specific technique used to implement abstraction.\n",
        "3. Benefits: Abstraction simplifies complexity and improves modularity, while encapsulation improves code organization, data protection, and reusability.\n",
        "\n",
        "Real-World Analogy:\n",
        "\n",
        "Think of a car's gear system. Abstraction would be like only showing the gear shift and hiding the complex mechanics underneath. Encapsulation would be like bundling the gear system, including its mechanics and behavior, within the car's transmission system, protecting it from external interference.\n",
        "\n",
        "By using abstraction and encapsulation, developers can create more maintainable, scalable, and efficient software systems that model real-world objects and relationships."
      ],
      "metadata": {
        "id": "WuTXEhm0B-CG"
      }
    },
    {
      "cell_type": "markdown",
      "source": [
        "Question-5.What are dunder methods in Python?\n",
        "\n",
        "Answer-5. Dunder Methods in Python\n",
        "\n",
        "Dunder methods, short for \"double underscore\" methods, are special methods in Python that are surrounded by double underscores (__) on either side of the method name. They're also known as magic methods or special methods.\n",
        "\n",
        "Purpose of Dunder Methods:\n",
        "\n",
        "1. Operator overloading: Dunder methods allow you to define custom behavior for operators like +, -, *, /, etc.\n",
        "2. Customizing object behavior: Dunder methods enable you to customize the behavior of objects, such as how they're represented as strings or how they're compared for equality.\n",
        "3. Implementing protocols: Dunder methods help implement protocols like iteration, context management, and more.\n",
        "\n",
        "Common Dunder Methods:\n",
        "\n",
        "1. __init__: Initializes an object when it's created.\n",
        "2. __str__ and __repr__: Return string representations of an object.\n",
        "3. __add__, __sub__, __mul__, etc.: Define custom behavior for operators.\n",
        "4. __eq__, __ne__, __lt__, etc.: Define custom behavior for comparison operators.\n",
        "5. __len__: Returns the length of an object.\n",
        "6. __getitem__ and __setitem__: Define custom behavior for indexing and assigning values.\n",
        "7. __iter__ and __next__: Define custom behavior for iteration.\n",
        "\n",
        "Benefits of Dunder Methods:\n",
        "\n",
        "1. Customizability: Dunder methods allow you to customize the behavior of objects and operators.\n",
        "2. Readability: Dunder methods can improve code readability by providing a more natural and intuitive way of working with objects.\n",
        "3. Flexibility: Dunder methods enable you to create complex and flexible data structures and objects.\n",
        "\n",
        "By using dunder methods, you can create more powerful and flexible classes and objects in Python, making your code more efficient and readable."
      ],
      "metadata": {
        "id": "2iYs0rHGCRa4"
      }
    },
    {
      "cell_type": "markdown",
      "source": [
        "Question-6.Explain the concept of inheritance in OOP\n",
        "\n",
        "Answer-6.Inheritance in OOP\n",
        "\n",
        "Inheritance is a fundamental concept in Object-Oriented Programming (OOP) that allows one class to inherit the properties and behavior of another class. The inheriting class, also known as the subclass or derived class, inherits the attributes and methods of the parent class, also known as the superclass or base class.\n",
        "\n",
        "Key Features of Inheritance:\n",
        "\n",
        "1. Code Reusability: Inheritance enables code reusability by allowing subclasses to inherit the common attributes and methods of the superclass.\n",
        "2. Hierarchical Relationships: Inheritance helps establish hierarchical relationships between classes, where a subclass is a specialized version of the superclass.\n",
        "3. Inherited Attributes and Methods: Subclasses inherit the attributes and methods of the superclass, which can be used or overridden as needed.\n",
        "\n",
        "Types of Inheritance:\n",
        "\n",
        "1. Single Inheritance: A subclass inherits from a single superclass.\n",
        "2. Multiple Inheritance: A subclass inherits from multiple superclasses.\n",
        "3. Multilevel Inheritance: A subclass inherits from a superclass that itself inherits from another superclass.\n",
        "\n",
        "Benefits of Inheritance:\n",
        "\n",
        "1. Improved Code Organization: Inheritance promotes code organization by grouping related classes together.\n",
        "2. Reduced Code Duplication: Inheritance reduces code duplication by allowing subclasses to inherit common attributes and methods.\n",
        "3. Easier Maintenance: Inheritance makes it easier to maintain and update code, as changes to the superclass can be automatically inherited by subclasses.\n",
        "\n",
        "Real-World Analogy:\n",
        "\n",
        "Think of a vehicle hierarchy, where \"Vehicle\" is the superclass and \"Car,\" \"Truck,\" and \"Motorcycle\" are subclasses. Each subclass inherits the common attributes and methods of the \"Vehicle\" class, such as \"speed\" and \"acceleration,\" and adds its own specific attributes and methods.\n",
        "\n",
        "By using inheritance, developers can create more maintainable, scalable, and efficient software systems that model real-world objects and relationships."
      ],
      "metadata": {
        "id": "pGFQ2lP6Ch0X"
      }
    },
    {
      "cell_type": "markdown",
      "source": [
        "Question-7.What is polymorphism in OOP?\n",
        "\n",
        "Answer-7. Polymorphism in OOP\n",
        "\n",
        "Polymorphism is a fundamental concept in Object-Oriented Programming (OOP) that allows objects of different classes to be treated as objects of a common superclass. This enables you to write code that can work with objects of different classes without knowing their specific class type.\n",
        "\n",
        "Key Features of Polymorphism:\n",
        "\n",
        "1. Method overriding: Polymorphism allows subclasses to override methods of their superclass, providing a specific implementation for a particular class.\n",
        "2. Method overloading: Polymorphism enables multiple methods with the same name to be defined, but with different parameters.\n",
        "3. Operator overloading: Polymorphism allows operators like +, -, *, etc. to be redefined for custom classes.\n",
        "\n",
        "Types of Polymorphism:\n",
        "\n",
        "1. Compile-time polymorphism: Method overloading is an example of compile-time polymorphism, where the method to be invoked is determined at compile time.\n",
        "2. Runtime polymorphism: Method overriding is an example of runtime polymorphism, where the method to be invoked is determined at runtime.\n",
        "\n",
        "Benefits of Polymorphism:\n",
        "\n",
        "1. Increased flexibility: Polymorphism enables you to write code that can work with objects of different classes, making it more flexible and reusable.\n",
        "2. Easier maintenance: Polymorphism makes it easier to add new classes or modify existing ones without affecting other parts of the code.\n",
        "3. Improved code readability: Polymorphism promotes code readability by allowing you to use the same method name for different classes.\n",
        "\n",
        "Real-World Analogy:\n",
        "\n",
        "Think of a shape hierarchy, where \"Shape\" is the superclass and \"Circle,\" \"Rectangle,\" and \"Triangle\" are subclasses. Polymorphism allows you to write code that can work with any shape object, without knowing its specific class type.\n",
        "\n",
        "By using polymorphism, developers can create more flexible, maintainable, and efficient software systems that model real-world objects and relationships"
      ],
      "metadata": {
        "id": "cWTywQ9eCz0G"
      }
    },
    {
      "cell_type": "markdown",
      "source": [
        "Question-8. How is encapsulation achieved in Python\n",
        "\n",
        "Answer-8. Encapsulation in Python\n",
        "\n",
        "Encapsulation in Python is achieved through the use of classes and objects. Python's encapsulation is not as strict as some other languages, but it can be achieved using naming conventions and access modifiers.\n",
        "\n",
        "Access Modifiers:\n",
        "\n",
        "1. Public: No underscore prefix (e.g., attribute or method). Public attributes and methods can be accessed directly.\n",
        "2. Protected: Single underscore prefix (e.g., _attribute or _method). Protected attributes and methods are intended to be private, but Python doesn't enforce this.\n",
        "3. Private: Double underscore prefix (e.g., __attribute or __method). Private attributes and methods are name-mangled, making them harder to access directly.\n",
        "\n",
        "Achieving Encapsulation:\n",
        "\n",
        "1. Use classes: Define classes to encapsulate data and behavior.\n",
        "2. Use access modifiers: Use naming conventions like single underscore (protected) or double underscore (private) to indicate intended access levels.\n",
        "3. Use getter and setter methods: Provide getter and setter methods to control access to attributes, allowing for validation and modification of data.\n",
        "\n",
        "Example:\n",
        "\n",
        "\n",
        "class BankAccount:\n",
        "\n",
        "    def __init__(self):\n",
        "        self.__balance = 0.0\n",
        "\n",
        "    def deposit(self, amount):\n",
        "        if amount > 0:\n",
        "            self.__balance += amount\n",
        "\n",
        "    def get_balance(self):\n",
        "        return self.__balance\n",
        "\n",
        "account = BankAccount()\n",
        "\n",
        "account.deposit(100)\n",
        "\n",
        "print(account.get_balance())  # Output: 100\n",
        "\n",
        "\n",
        "In this example, the __balance attribute is private, and access is controlled through the deposit and get_balance methods.\n",
        "\n",
        "Benefits:\n",
        "\n",
        "1. Data protection: Encapsulation helps protect data from external interference and misuse.\n",
        "2. Improved code organization: Encapsulation promotes code organization by keeping related data and behavior together.\n",
        "3. Easier maintenance: Encapsulation makes it easier to modify or extend code without affecting other parts of the program.\n",
        "\n",
        "By using encapsulation, you can create more maintainable, scalable, and efficient software systems in Python."
      ],
      "metadata": {
        "id": "HhFxHkeNDHt_"
      }
    },
    {
      "cell_type": "markdown",
      "source": [
        "Question-9. What is a constructor in Python\n",
        "\n",
        "Answer-9. Constructor in Python\n",
        "\n",
        "A constructor in Python is a special method that is automatically called when an object of a class is created. It's used to initialize the attributes of the class and perform any necessary setup.\n",
        "\n",
        "__init__ Method:\n",
        "\n",
        "In Python, the constructor is defined using the __init__ method. This method is called when an object is instantiated, and it's used to set the initial state of the object.\n",
        "\n",
        "Key Features:\n",
        "\n",
        "1. Initialization: The __init__ method initializes the attributes of the class.\n",
        "2. Automatic call: The __init__ method is called automatically when an object is created.\n",
        "3. First method to be called: The __init__ method is the first method to be called when an object is instantiated.\n",
        "\n",
        "Example:\n",
        "\n",
        "\n",
        "class Person:\n",
        "\n",
        "    def __init__(self, name, age):\n",
        "        self.name = name\n",
        "        self.age = age\n",
        "\n",
        "person = Person(\"John\", 30)\n",
        "\n",
        "print(person.name)  # Output: John\n",
        "\n",
        "print(person.age)   # Output: 30\n",
        "\n",
        "\n",
        "In this example, the __init__ method is used to initialize the name and age attributes of the Person class.\n",
        "\n",
        "Benefits:\n",
        "\n",
        "1. Ensures object initialization: The constructor ensures that objects are properly initialized before they're used.\n",
        "2. Reduces errors: By initializing objects consistently, constructors help reduce errors and improve code reliability.\n",
        "3. Improves code readability: Constructors make code more readable by providing a clear understanding of how objects are initialized.\n",
        "\n",
        "By using constructors, you can ensure that objects are properly initialized and set up, making your code more robust and maintainable."
      ],
      "metadata": {
        "id": "Ov-CAQFcDeRz"
      }
    },
    {
      "cell_type": "markdown",
      "source": [
        "Question-10. What are class and static methods in Python?\n",
        "\n",
        "Answer-10. Class and Static Methods in Python\n",
        "\n",
        "In Python, class methods and static methods are two types of methods that can be defined inside a class. They differ in their usage and purpose.\n",
        "\n",
        "Class Methods:\n",
        "\n",
        "1. Bound to the class: Class methods are bound to the class rather than an instance of the class.\n",
        "2. First parameter is the class: Class methods take the class as the first parameter, conventionally named cls.\n",
        "3. Used for class-level operations: Class methods are used for operations that involve the class itself, such as creating alternative constructors.\n",
        "\n",
        "Static Methods:\n",
        "\n",
        "1. Not bound to the class or instance: Static methods are not bound to the class or an instance of the class.\n",
        "2. No implicit first parameter: Static methods do not take an implicit first parameter like self or cls.\n",
        "3. Used for utility functions: Static methods are used for utility functions that belong to the class but don't require access to the class or instance state.\n",
        "\n",
        "Example:\n",
        "\n",
        "\n",
        "class MyClass:\n",
        "\n",
        "    count = 0\n",
        "\n",
        "    def __init__(self):\n",
        "        MyClass.count += 1\n",
        "\n",
        "    @classmethod\n",
        "    def get_count(cls):\n",
        "        return cls.count\n",
        "\n",
        "    @staticmethod\n",
        "    def is_valid_input(input_value):\n",
        "        return isinstance(input_value, int)\n",
        "\n",
        "obj1 = MyClass()\n",
        "\n",
        "obj2 = MyClass()\n",
        "\n",
        "print(MyClass.get_count())  # Output: 2\n",
        "\n",
        "print(MyClass.is_valid_input(10))  # Output: True\n",
        "\n",
        "\n",
        "In this example, get_count is a class method that returns the count of instances created, and is_valid_input is a static method that checks if the input is a valid integer.\n",
        "\n",
        "Benefits:\n",
        "\n",
        "1. Improved code organization: Class and static methods help organize code in a logical and structured way.\n",
        "2. Reusability: Class and static methods can be reused across instances or classes.\n",
        "3. Readability: Class and static methods improve code readability by providing a clear understanding of the method's purpose and scope.\n",
        "\n",
        "By using class and static methods, you can write more efficient, readable, and maintainable code in Python."
      ],
      "metadata": {
        "id": "12SAySglD1cV"
      }
    },
    {
      "cell_type": "markdown",
      "source": [
        "-Question-11. What is method overloading in Python?\n",
        "\n",
        "Answer-11. Method Overloading in Python\n",
        "\n",
        "Method overloading is a feature in some programming languages that allows multiple methods with the same name to be defined, but with different parameter lists. However, Python does not support method overloading in the classical sense.\n",
        "\n",
        "Python's Approach:\n",
        "\n",
        "Instead of method overloading, Python uses optional arguments and variable-length argument lists to achieve similar functionality. You can define a single method with default argument values or use the *args and **kwargs syntax to handle variable numbers of arguments.\n",
        "\n",
        "Example:\n",
        "\n",
        "\n",
        "class Calculator:\n",
        "\n",
        "    def calculate(self, *args):\n",
        "        if len(args) == 1:\n",
        "            return args[0] ** 2\n",
        "        elif len(args) == 2:\n",
        "            return args[0] + args[1]\n",
        "        else:\n",
        "            raise ValueError(\"Invalid number of arguments\")\n",
        "\n",
        "calculator = Calculator()\n",
        "\n",
        "print(calculator.calculate(5))  # Output: 25\n",
        "\n",
        "print(calculator.calculate(5, 10))  # Output: 15\n",
        "\n",
        "\n",
        "In this example, the calculate method takes a variable number of arguments and performs different calculations based on the number of arguments passed.\n",
        "\n",
        "Using Default Argument Values:\n",
        "\n",
        "You can also use default argument values to achieve similar functionality:\n",
        "\n",
        "\n",
        "class Calculator:\n",
        "\n",
        "    def calculate(self, a, b=None):\n",
        "        if b is None:\n",
        "            return a ** 2\n",
        "        else:\n",
        "            return a + b\n",
        "\n",
        "calculator = Calculator()\n",
        "\n",
        "print(calculator.calculate(5))  # Output: 25\n",
        "\n",
        "print(calculator.calculate(5, 10))  # Output: 15\n",
        "\n",
        "\n",
        "Benefits:\n",
        "\n",
        "1. Flexibility: Python's approach to method overloading provides flexibility in handling different numbers and types of arguments.\n",
        "2. Readability: By using descriptive method names and argument lists, you can make your code more readable and self-explanatory.\n",
        "3. Simplified code: Python's approach can simplify code and reduce the need for multiple method definitions.\n",
        "\n",
        "While Python does not support traditional method overloading, its flexible argument handling mechanisms provide a powerful way to write versatile and reusable code."
      ],
      "metadata": {
        "id": "9TYEu5vZERgT"
      }
    },
    {
      "cell_type": "markdown",
      "source": [
        "Question-12. What is method overriding in OOP?\n",
        "\n",
        "Answer-12. Method Overriding in OOP\n",
        "\n",
        "Method overriding is a feature in Object-Oriented Programming (OOP) that allows a subclass to provide a specific implementation for a method that is already defined in its superclass. The subclass method has the same name, return type, and parameter list as the superclass method, but it can have a different implementation.\n",
        "\n",
        "Key Features:\n",
        "\n",
        "1. Same method signature: The subclass method has the same name, return type, and parameter list as the superclass method.\n",
        "2. Different implementation: The subclass method provides a different implementation than the superclass method.\n",
        "3. Polymorphism: Method overriding is a form of polymorphism, where objects of different classes can be treated as objects of a common superclass.\n",
        "\n",
        "Example:\n",
        "\n",
        "\n",
        "class Shape:\n",
        "\n",
        "    def area(self):\n",
        "        pass\n",
        "\n",
        "class Rectangle(Shape):\n",
        "    def __init__(self, width, height):\n",
        "        self.width = width\n",
        "        self.height = height\n",
        "\n",
        "    def area(self):\n",
        "        return self.width * self.height\n",
        "\n",
        "class Circle(Shape):\n",
        "    def __init__(self, radius):\n",
        "        self.radius = radius\n",
        "\n",
        "    def area(self):\n",
        "        return 3.14 * (self.radius ** 2)\n",
        "\n",
        "rectangle = Rectangle(4, 5)\n",
        "\n",
        "circle = Circle(3)\n",
        "\n",
        "print(rectangle.area())  # Output: 20\n",
        "\n",
        "print(circle.area())  # Output: 28.26\n",
        "\n",
        "\n",
        "In this example, the Rectangle and Circle classes override the area method of the Shape class to provide their own implementations.\n",
        "\n",
        "Benefits:\n",
        "\n",
        "1. Increased flexibility: Method overriding allows subclasses to provide specific implementations for methods, increasing flexibility and customization.\n",
        "2. Improved code reuse: Method overriding promotes code reuse by allowing subclasses to inherit and build upon the behavior of their superclasses.\n",
        "3. Easier maintenance: Method overriding makes it easier to modify or extend code, as changes to the superclass method can be overridden by subclasses.\n",
        "\n",
        "By using method overriding, you can create more flexible, maintainable, and efficient software systems that model real-world objects and relationships."
      ],
      "metadata": {
        "id": "xRGtzhKVEfcA"
      }
    },
    {
      "cell_type": "markdown",
      "source": [
        "Question-13. What is a property decorator in Python?\n",
        "\n",
        "Answer-13. Property Decorator in Python\n",
        "\n",
        "The @property decorator in Python allows you to implement getter, setter, and deleter functionality for class attributes. It provides a way to customize access to instance data and adds a layer of abstraction between the internal representation of an object and its external interface.\n",
        "\n",
        "Key Features:\n",
        "\n",
        "1. Getter: The @property decorator defines a getter method that returns the value of an attribute.\n",
        "2. Setter: The @x.setter decorator defines a setter method that sets the value of an attribute.\n",
        "3. Deleter: The @x.deleter decorator defines a deleter method that deletes an attribute.\n",
        "\n",
        "Example:\n",
        "\n",
        "\n",
        "class Person:\n",
        "\n",
        "    def __init__(self, name):\n",
        "        self._name = name\n",
        "\n",
        "    @property\n",
        "    def name(self):\n",
        "        print(\"Getting name\")\n",
        "        return self._name\n",
        "\n",
        "    @name.setter\n",
        "    def name(self, value):\n",
        "        print(\"Setting name to\", value)\n",
        "        self._name = value\n",
        "\n",
        "    @name.deleter\n",
        "    def name(self):\n",
        "        print(\"Deleting name\")\n",
        "        del self._name\n",
        "\n",
        "person = Person(\"John\")\n",
        "\n",
        "print(person.name)  # Output: Getting name, John\n",
        "\n",
        "person.name = \"Jane\"  # Output: Setting name to Jane\n",
        "\n",
        "del person.name  # Output: Deleting name\n",
        "\n",
        "\n",
        "In this example, the name property is defined using the @property decorator, and its getter, setter, and deleter methods are implemented.\n",
        "\n",
        "Benefits:\n",
        "\n",
        "1. Improved code readability: Properties make code more readable by providing a clear and concise way to access and modify attributes.\n",
        "2. Customizable attribute access: Properties allow you to customize attribute access and modification, enabling you to add validation, logging, or other logic.\n",
        "3. Encapsulation: Properties promote encapsulation by controlling access to internal attributes and providing a layer of abstraction.\n",
        "\n",
        "By using properties, you can create more maintainable, efficient, and readable code in Python."
      ],
      "metadata": {
        "id": "vcP8ppImE611"
      }
    },
    {
      "cell_type": "markdown",
      "source": [
        "Question-14. Why is polymorphism important in OOP?\n",
        "\n",
        "Answer-14.Importance of Polymorphism in OOP\n",
        "\n",
        "Polymorphism is a fundamental concept in Object-Oriented Programming (OOP) that allows objects of different classes to be treated as objects of a common superclass. This enables you to write code that can work with objects of different classes without knowing their specific class type.\n",
        "\n",
        "Benefits of Polymorphism:\n",
        "\n",
        "1. Increased flexibility: Polymorphism allows you to write code that can work with objects of different classes, making it more flexible and reusable.\n",
        "2. Easier maintenance: Polymorphism makes it easier to modify or extend code, as changes to the superclass can be inherited by subclasses.\n",
        "3. Improved code readability: Polymorphism promotes code readability by allowing you to use the same method name for different classes.\n",
        "4. Reduced code duplication: Polymorphism reduces code duplication by enabling you to write code that can work with objects of different classes.\n",
        "\n",
        "Real-World Analogy:\n",
        "\n",
        "Think of a payment system that supports different payment methods, such as credit cards, PayPal, and bank transfers. Polymorphism allows you to treat all payment methods as objects of a common superclass, \"PaymentMethod,\" and write code that can work with any payment method without knowing its specific type.\n",
        "\n",
        "Example:\n",
        "\n",
        "\n",
        "class PaymentMethod:\n",
        "\n",
        "    def pay(self, amount):\n",
        "        pass\n",
        "\n",
        "class CreditCard(PaymentMethod):\n",
        "    def pay(self, amount):\n",
        "        print(f\"Paying {amount} using credit card\")\n",
        "\n",
        "class PayPal(PaymentMethod):\n",
        "    def pay(self, amount):\n",
        "        print(f\"Paying {amount} using PayPal\")\n",
        "\n",
        "def process_payment(payment_method, amount):\n",
        "    payment_method.pay(amount)\n",
        "\n",
        "credit_card = CreditCard()\n",
        "\n",
        "paypal = PayPal()\n",
        "\n",
        "process_payment(credit_card, 100)  # Output: Paying 100 using credit card\n",
        "process_payment(paypal, 100)  # Output: Paying 100 using PayPal\n",
        "\n",
        "\n",
        "In this example, the process_payment function can work with objects of different classes, CreditCard and PayPal, without knowing their specific class type.\n",
        "\n",
        "By using polymorphism, you can create more flexible, maintainable, and efficient software systems that model real-world objects and relationships."
      ],
      "metadata": {
        "id": "8d0p7iGDFWr6"
      }
    },
    {
      "cell_type": "markdown",
      "source": [
        "Question-15.What is an abstract class in Python?\n",
        "\n",
        "Answer-15. Abstract Class in Python\n",
        "\n",
        "An abstract class in Python is a class that cannot be instantiated on its own and is designed to be inherited by other classes. It provides a way to define a blueprint for other classes to follow and can include both abstract methods (methods without implementation) and concrete methods (methods with implementation).\n",
        "\n",
        "Key Features:\n",
        "\n",
        "1. Cannot be instantiated: Abstract classes cannot be instantiated directly and must be inherited by other classes.\n",
        "2. Abstract methods: Abstract classes can define abstract methods that must be implemented by subclasses.\n",
        "3. Concrete methods: Abstract classes can also define concrete methods that can be used by subclasses.\n",
        "\n",
        "Example:\n",
        "\n",
        "\n",
        "from abc import ABC, abstractmethod\n",
        "\n",
        "class Shape(ABC):\n",
        "\n",
        "    @abstractmethod\n",
        "    def area(self):\n",
        "        pass\n",
        "\n",
        "    def display(self):\n",
        "        print(\"This is a shape\")\n",
        "\n",
        "class Rectangle(Shape):\n",
        "    def __init__(self, width, height):\n",
        "        self.width = width\n",
        "        self.height = height\n",
        "\n",
        "    def area(self):\n",
        "        return self.width * self.height\n",
        "\n",
        "rectangle = Rectangle(4, 5)\n",
        "\n",
        "print(rectangle.area())  # Output: 20\n",
        "\n",
        "rectangle.display()  # Output: This is a shape\n",
        "\n",
        "\n",
        "In this example, the Shape class is an abstract class that defines an abstract method area and a concrete method display. The Rectangle class inherits from Shape and implements the area method.\n",
        "\n",
        "Benefits:\n",
        "\n",
        "1. Defines a blueprint: Abstract classes provide a way to define a blueprint for other classes to follow, ensuring consistency and structure.\n",
        "2. Promotes code reuse: Abstract classes can include concrete methods that can be reused by subclasses.\n",
        "3. Enforces implementation: Abstract methods ensure that subclasses implement specific methods, promoting consistency and correctness.\n",
        "\n",
        "By using abstract classes, you can create more structured, maintainable, and efficient software systems in Python."
      ],
      "metadata": {
        "id": "L6UoTZUtFyUC"
      }
    },
    {
      "cell_type": "markdown",
      "source": [
        "Question-16. What are the advantages of OOP?\n",
        "\n",
        "Answer-16. Advantages of Object-Oriented Programming (OOP)\n",
        "\n",
        "Object-Oriented Programming (OOP) offers several advantages that make it a popular and effective programming paradigm. Some of the key advantages include:\n",
        "\n",
        "1. Modularity: OOP promotes modularity by organizing code into objects that contain data and behavior. This makes it easier to develop, test, and maintain large programs.\n",
        "2. Reusability: OOP enables code reuse through inheritance and polymorphism, reducing the need to duplicate code and improving development efficiency.\n",
        "3. Easier Maintenance: OOP makes it easier to modify or extend code without affecting other parts of the program, reducing the risk of introducing bugs or errors.\n",
        "4. Improved Code Readability: OOP promotes code readability by organizing code into logical and structured units, making it easier to understand and maintain.\n",
        "5. Flexibility: OOP provides flexibility through polymorphism, allowing objects of different classes to be treated as objects of a common superclass.\n",
        "6. Abstraction: OOP enables abstraction, allowing developers to focus on essential features and hide implementation details, making code more modular and maintainable.\n",
        "7. Easier Debugging: OOP makes it easier to debug code by isolating problems to specific objects or classes, reducing the complexity of debugging.\n",
        "8. Better Modeling: OOP enables better modeling of real-world objects and systems, making it easier to develop software that accurately represents the problem domain.\n",
        "\n",
        "Real-World Benefits:\n",
        "\n",
        "1. Faster Development: OOP can speed up development by promoting code reuse and reducing the need to duplicate code.\n",
        "2. Improved Collaboration: OOP makes it easier for developers to work together on large projects, as each developer can focus on specific objects or classes.\n",
        "3. Easier Extension: OOP makes it easier to extend or modify existing code, reducing the risk of introducing bugs or errors.\n",
        "\n",
        "By using OOP, developers can create more maintainable, efficient, and scalable software systems that model real-world objects and relationships."
      ],
      "metadata": {
        "id": "86DqjttqGIKu"
      }
    },
    {
      "cell_type": "markdown",
      "source": [
        "Question-17. What is the difference between a class variable and an instance variable?\n",
        "\n",
        "Answer-17. Class Variable vs Instance Variable\n",
        "\n",
        "In Object-Oriented Programming (OOP), class variables and instance variables are two types of variables that serve different purposes.\n",
        "\n",
        "Class Variable:\n",
        "\n",
        "1. Shared by all instances: Class variables are shared by all instances of a class.\n",
        "2. Defined at the class level: Class variables are defined at the class level, outside of any method.\n",
        "3. Common data: Class variables are used to store data that is common to all instances of a class.\n",
        "\n",
        "Instance Variable:\n",
        "\n",
        "1. Unique to each instance: Instance variables are unique to each instance of a class.\n",
        "2. Defined at the instance level: Instance variables are defined at the instance level, typically inside the __init__ method.\n",
        "3. Instance-specific data: Instance variables are used to store data that is specific to each instance of a class.\n",
        "\n",
        "Example:\n",
        "\n",
        "\n",
        "class Car:\n",
        "\n",
        "    wheels = 4  # Class variable\n",
        "\n",
        "    def __init__(self, color):\n",
        "        self.color = color  # Instance variable\n",
        "\n",
        "car1 = Car(\"Red\")\n",
        "\n",
        "car2 = Car(\"Blue\")\n",
        "\n",
        "print(car1.wheels)  # Output: 4\n",
        "\n",
        "print(car2.wheels)  # Output: 4\n",
        "\n",
        "print(car1.color)  # Output: Red\n",
        "\n",
        "print(car2.color)  # Output: Blue\n",
        "\n",
        "Car.wheels = 6  # Modifying the class variable\n",
        "\n",
        "print(car1.wheels)  # Output: 6\n",
        "\n",
        "print(car2.wheels)  # Output: 6\n",
        "\n",
        "car1.color = \"Green\"  # Modifying the instance variable\n",
        "\n",
        "print(car1.color)  # Output: Green\n",
        "\n",
        "print(car2.color)  # Output: Blue\n",
        "\n",
        "\n",
        "In this example, wheels is a class variable shared by all instances of the Car class, while color is an instance variable unique to each instance.\n",
        "\n",
        "Key Differences:\n",
        "\n",
        "1. Scope: Class variables have a class scope, while instance variables have an instance scope.\n",
        "2. Sharing: Class variables are shared by all instances, while instance variables are unique to each instance.\n",
        "3. Modification: Modifying a class variable affects all instances, while modifying an instance variable only affects that specific instance.\n",
        "\n",
        "By understanding the differences between class variables and instance variables, you can design more effective and efficient classes in your object-oriented programs."
      ],
      "metadata": {
        "id": "LcZQPlCyG7ee"
      }
    },
    {
      "cell_type": "markdown",
      "source": [
        "Question-18. What is multiple inheritance in Python?\n",
        "\n",
        "Answer-18. Multiple Inheritance in Python\n",
        "\n",
        "Multiple inheritance in Python is a feature that allows a class to inherit properties and behavior from more than one superclass. This enables a subclass to combine the attributes and methods of multiple parent classes.\n",
        "\n",
        "Key Features:\n",
        "\n",
        "1. Multiple superclasses: A subclass can inherit from multiple superclasses.\n",
        "2. Combined attributes and methods: The subclass inherits the attributes and methods of all its superclasses.\n",
        "3. Method resolution order: Python uses a method resolution order (MRO) to resolve conflicts between methods with the same name in different superclasses.\n",
        "\n",
        "Example:\n",
        "\n",
        "\n",
        "class Animal:\n",
        "\n",
        "    def sound(self):\n",
        "        print(\"The animal makes a sound\")\n",
        "\n",
        "class Mammal:\n",
        "\n",
        "    def eat(self):\n",
        "        print(\"The mammal eats\")\n",
        "\n",
        "class Dog(Animal, Mammal):\n",
        "\n",
        "    def bark(self):\n",
        "        print(\"The dog barks\")\n",
        "\n",
        "dog = Dog()\n",
        "\n",
        "dog.sound()  # Output: The animal makes a sound\n",
        "\n",
        "dog.eat()  # Output: The mammal eats\n",
        "\n",
        "dog.bark()  # Output: The dog barks\n",
        "\n",
        "\n",
        "In this example, the Dog class inherits from both the Animal and Mammal classes, combining their attributes and methods.\n",
        "\n",
        "Benefits:\n",
        "\n",
        "1. Increased flexibility: Multiple inheritance allows for more flexibility in designing class hierarchies.\n",
        "2. Code reuse: Multiple inheritance promotes code reuse by enabling subclasses to inherit behavior from multiple superclasses.\n",
        "3. More accurate modeling: Multiple inheritance can lead to more accurate modeling of real-world objects and relationships.\n",
        "\n",
        "Challenges:\n",
        "\n",
        "1. Method resolution order: Python's MRO can sometimes lead to unexpected behavior if not understood properly.\n",
        "2. Diamond problem: Multiple inheritance can lead to the \"diamond problem,\" where a subclass inherits conflicting methods from its superclasses.\n",
        "\n",
        "By understanding multiple inheritance in Python, you can design more complex and flexible class hierarchies that model real-world objects and relationships more accurately."
      ],
      "metadata": {
        "id": "jatn1lPxHt4k"
      }
    },
    {
      "cell_type": "markdown",
      "source": [
        "Question-19. Explain the purpose of ‘’__str__’ and ‘__repr__’ ‘ methods in Python?\n",
        "\n",
        "Anmswer-19. In Python, the __str__ and __repr__ methods are special methods that allow you to customize the string representation of objects.\n",
        "\n",
        "__str__ Method:\n",
        "\n",
        "1. Human-readable representation: The __str__ method returns a human-readable string representation of an object.\n",
        "2. Used for display: The __str__ method is used when you want to display an object in a user-friendly way, such as when printing an object.\n",
        "3. String format: The __str__ method should return a string that is easy to read and understand.\n",
        "\n",
        "__repr__ Method:\n",
        "\n",
        "1. Unambiguous representation: The __repr__ method returns an unambiguous string representation of an object that can be used to recreate the object.\n",
        "2. Used for debugging: The __repr__ method is used for debugging purposes, providing a clear and concise representation of an object.\n",
        "3. Valid Python expression: Ideally, the __repr__ method should return a string that is a valid Python expression.\n",
        "\n",
        "Example:\n",
        "\n",
        "\n",
        "class Person:\n",
        "\n",
        "    def __init__(self, name, age):\n",
        "        self.name = name\n",
        "        self.age = age\n",
        "\n",
        "    def __str__(self):\n",
        "        return f\"{self.name}, {self.age} years old\"\n",
        "\n",
        "    def __repr__(self):\n",
        "        return f\"Person(name='{self.name}', age={self.age})\"\n",
        "\n",
        "person = Person(\"John\", 30)\n",
        "\n",
        "print(str(person))  # Output: John, 30 years old\n",
        "\n",
        "print(repr(person))  # Output: Person(name='John', age=30)\n",
        "\n",
        "\n",
        "In this example, the __str__ method returns a human-readable string representation of the Person object, while the __repr__ method returns an unambiguous string representation that can be used to recreate the object.\n",
        "\n",
        "Best Practices:\n",
        "\n",
        "1. Implement both methods: It's a good practice to implement both the __str__ and __repr__ methods in your classes.\n",
        "2. Use meaningful strings: Make sure the strings returned by these methods are meaningful and provide useful information about the object.\n",
        "3. Follow conventions: Follow the conventions for these methods, such as returning a valid Python expression for __repr__.\n",
        "\n",
        "By implementing the __str__ and __repr__ methods, you can customize the string representation of your objects and make your code more readable and maintainable."
      ],
      "metadata": {
        "id": "Yj1C9z5cIDG1"
      }
    },
    {
      "cell_type": "markdown",
      "source": [
        "Question-20. What is the significance of the ‘super()’ function in Python?\n",
        "\n",
        "Answer-20. The super() function in Python is used to access the methods and properties of a parent class (also known as a superclass) from a child class. It allows you to override methods in the parent class while still utilizing the parent class's functionality.\n",
        "\n",
        "Key Features:\n",
        "\n",
        "1. Access to parent class: super() provides access to the methods and properties of a parent class.\n",
        "2. Method overriding: super() enables method overriding, where a child class can provide a specific implementation for a method that is already defined in the parent class.\n",
        "3. Code reuse: super() promotes code reuse by allowing child classes to build upon the functionality of parent classes.\n",
        "\n",
        "Example:\n",
        "\n",
        "\n",
        "class Animal:\n",
        "\n",
        "    def __init__(self, name):\n",
        "        self.name = name\n",
        "\n",
        "    def sound(self):\n",
        "        print(\"The animal makes a sound\")\n",
        "\n",
        "class Dog(Animal):\n",
        "\n",
        "    def __init__(self, name, breed):\n",
        "        super().__init__(name)\n",
        "        self.breed = breed\n",
        "\n",
        "    def sound(self):\n",
        "        super().sound()\n",
        "        print(\"The dog barks\")\n",
        "\n",
        "dog = Dog(\"Buddy\", \"Golden Retriever\")\n",
        "\n",
        "print(dog.name)  # Output: Buddy\n",
        "\n",
        "dog.sound()\n",
        "\n",
        "# Output:\n",
        "# The animal makes a sound\n",
        "# The dog barks\n",
        "\n",
        "\n",
        "In this example, the Dog class uses super() to access the __init__ method of the Animal class and to call the sound method of the Animal class.\n",
        "\n",
        "Benefits:\n",
        "\n",
        "1. Improved code organization: super() helps to keep code organized by allowing child classes to focus on their specific implementation details.\n",
        "2. Reduced code duplication: super() reduces code duplication by enabling child classes to reuse the functionality of parent classes.\n",
        "3. Easier maintenance: super() makes it easier to maintain code by allowing changes to be made in one place (the parent class) rather than in multiple child classes.\n",
        "\n",
        "By using super(), you can create more efficient, readable, and maintainable code in Python."
      ],
      "metadata": {
        "id": "IAKfmmMBIgQf"
      }
    },
    {
      "cell_type": "markdown",
      "source": [
        "Question-21.What is the significance of the __del__ method in Python?\n",
        "\n",
        "Answer-21.The __del__ method in Python is a special method that is called when an object is about to be destroyed. It is also known as a finalizer or destructor.\n",
        "\n",
        "Key Features:\n",
        "\n",
        "1. Object destruction: The __del__ method is called when an object is about to be destroyed, which typically happens when the object's reference count reaches zero.\n",
        "2. Resource cleanup: The __del__ method can be used to clean up resources, such as closing files or releasing system resources, that the object has acquired during its lifetime.\n",
        "3. Not guaranteed to be called: The __del__ method is not guaranteed to be called in all situations, such as when the program crashes or is terminated abruptly.\n",
        "\n",
        "Example:\n",
        "\n",
        "\n",
        "class FileHandler:\n",
        "\n",
        "    def __init__(self, filename):\n",
        "        self.filename = filename\n",
        "        self.file = open(filename, 'w')\n",
        "\n",
        "    def __del__(self):\n",
        "        self.file.close()\n",
        "        print(f\"File {self.filename} closed\")\n",
        "\n",
        "file_handler = FileHandler(\"example.txt\")\n",
        "\n",
        "del file_handler  # Output: File example.txt closed\n",
        "\n",
        "\n",
        "In this example, the FileHandler class uses the __del__ method to close the file when the object is destroyed.\n",
        "\n",
        "Best Practices:\n",
        "\n",
        "1. Use with caution: The __del__ method should be used with caution, as it can lead to unpredictable behavior if not implemented correctly.\n",
        "2. Avoid complex logic: Avoid putting complex logic in the __del__ method, as it can lead to unexpected behavior.\n",
        "3. Use context managers: Consider using context managers instead of the __del__ method for resource cleanup, as they provide more predictable and reliable behavior.\n",
        "\n",
        "Alternatives:\n",
        "\n",
        "1. Context managers: Context managers provide a way to ensure that resources are cleaned up after use, regardless of whether an exception is thrown or not.\n",
        "2. try-finally blocks: try-finally blocks can be used to ensure that resources are cleaned up after use, even if an exception is thrown.\n",
        "\n",
        "By understanding the __del__ method and its limitations, you can write more efficient and reliable code in Python."
      ],
      "metadata": {
        "id": "jDtcAKMZI75E"
      }
    },
    {
      "cell_type": "markdown",
      "source": [
        "Question-22.What is the difference between @staticmethod and @classmethod in Python?\n",
        "\n",
        "Answer-22. In Python, @staticmethod and @classmethod are two types of decorators that can be used to define methods in a class. While both decorators allow you to define methods that can be called without creating an instance of the class, they differ in their purpose and behavior.\n",
        "\n",
        "@staticmethod:\n",
        "\n",
        "1. No implicit first argument: A static method does not receive an implicit first argument, like self or cls.\n",
        "2. Belongs to the class: A static method belongs to the class rather than an instance of the class.\n",
        "3. Utility methods: Static methods are often used for utility methods that don't require access to the class or instance state.\n",
        "\n",
        "@classmethod:\n",
        "\n",
        "1. Implicit first argument: A class method receives the class as an implicit first argument, conventionally named cls.\n",
        "2. Bound to the class: A class method is bound to the class rather than an instance of the class.\n",
        "3. Alternative constructors: Class methods are often used as alternative constructors or for methods that involve the class itself.\n",
        "\n",
        "Example:\n",
        "\n",
        "\n",
        "class MyClass:\n",
        "\n",
        "    count = 0\n",
        "\n",
        "    def __init__(self):\n",
        "        MyClass.count += 1\n",
        "\n",
        "    @staticmethod\n",
        "    def is_valid_input(input_value):\n",
        "        return isinstance(input_value, int)\n",
        "\n",
        "    @classmethod\n",
        "    def get_count(cls):\n",
        "        return cls.count\n",
        "\n",
        "print(MyClass.is_valid_input(10))  # Output: True\n",
        "\n",
        "print(MyClass.get_count())  # Output: 0\n",
        "\n",
        "obj1 = MyClass()\n",
        "\n",
        "obj2 = MyClass()\n",
        "\n",
        "print(MyClass.get_count())  # Output: 2\n",
        "\n",
        "\n",
        "In this example, is_valid_input is a static method that checks if the input is a valid integer, while get_count is a class method that returns the count of instances created.\n",
        "\n",
        "Key Differences:\n",
        "\n",
        "1. Implicit first argument: Static methods don't receive an implicit first argument, while class methods receive the class as an implicit first argument.\n",
        "2. Purpose: Static methods are often used for utility methods, while class methods are used for alternative constructors or methods that involve the class itself.\n",
        "3. Access to class state: Class methods have access to the class state, while static methods do not.\n",
        "\n",
        "By understanding the differences between @staticmethod and @classmethod, you can choose the right decorator for your specific use case and write more effective and efficient code in Python."
      ],
      "metadata": {
        "id": "uMx6KK2eJWVs"
      }
    },
    {
      "cell_type": "markdown",
      "source": [
        "Question-23. How does polymorphism work in Python with inheritance?\n",
        "\n",
        "Answer-23. Polymorphism is a fundamental concept in object-oriented programming (OOP) that allows objects of different classes to be treated as objects of a common superclass. In Python, polymorphism works seamlessly with inheritance, enabling you to write flexible and reusable code.\n",
        "\n",
        "How it Works:\n",
        "\n",
        "1. Method overriding: When a subclass inherits from a superclass, it can override the methods of the superclass. This allows the subclass to provide a specific implementation for a method that is already defined in the superclass.\n",
        "2. Method resolution: When a method is called on an object, Python resolves the method to be called based on the object's class and its inheritance hierarchy.\n",
        "3. Polymorphic behavior: Polymorphism enables objects of different classes to exhibit different behaviors when the same method is called.\n",
        "\n",
        "Example:\n",
        "\n",
        "\n",
        "class Shape:\n",
        "\n",
        "    def area(self):\n",
        "        pass\n",
        "\n",
        "class Rectangle(Shape):\n",
        "\n",
        "    def __init__(self, width, height):\n",
        "        self.width = width\n",
        "        self.height = height\n",
        "\n",
        "    def area(self):\n",
        "        return self.width * self.height\n",
        "\n",
        "class Circle(Shape):\n",
        "\n",
        "    def __init__(self, radius):\n",
        "        self.radius = radius\n",
        "\n",
        "    def area(self):\n",
        "        return 3.14 * (self.radius ** 2)\n",
        "\n",
        "def calculate_area(shape):\n",
        "    return shape.area()\n",
        "\n",
        "rectangle = Rectangle(4, 5)\n",
        "\n",
        "circle = Circle(3)\n",
        "\n",
        "print(calculate_area(rectangle))  # Output: 20\n",
        "\n",
        "print(calculate_area(circle))  # Output: 28.26\n",
        "\n",
        "\n",
        "In this example, the calculate_area function takes a Shape object as an argument and calls the area method on it. The Rectangle and Circle classes inherit from the Shape class and override the area method to provide their specific implementations. This allows the calculate_area function to work with objects of different classes, demonstrating polymorphism.\n",
        "\n",
        "Benefits:\n",
        "\n",
        "1. Increased flexibility: Polymorphism with inheritance enables you to write more flexible code that can work with objects of different classes.\n",
        "2. Easier maintenance: Polymorphism makes it easier to modify or extend code without affecting other parts of the program.\n",
        "3. Improved code reuse: Polymorphism promotes code reuse by enabling you to write code that can work with objects of different classes.\n",
        "\n",
        "By leveraging polymorphism with inheritance, you can create more efficient, readable, and maintainable code in Python."
      ],
      "metadata": {
        "id": "qKinSQkPJzzY"
      }
    },
    {
      "cell_type": "markdown",
      "source": [
        "Question-24. What is method chaining in Python OOP?\n",
        "\n",
        "Answer-24. Method Chaining in Python OOP\n",
        "\n",
        "Method chaining is a programming technique in Python Object-Oriented Programming (OOP) where multiple methods are called on the same object in a single statement. Each method returns the object itself, allowing the next method to be called on the same object.\n",
        "\n",
        "How it Works:\n",
        "\n",
        "1. Return self: Each method in the chain returns the object itself (self).\n",
        "2. Chain methods: Methods are called in a sequence, with each method building upon the previous one.\n",
        "\n",
        "Example:\n",
        "\n",
        "\n",
        "class Person:\n",
        "\n",
        "    def __init__(self, name):\n",
        "        self.name = name\n",
        "\n",
        "    def set_age(self, age):\n",
        "        self.age = age\n",
        "        return self\n",
        "\n",
        "    def set_occupation(self, occupation):\n",
        "        self.occupation = occupation\n",
        "        return self\n",
        "\n",
        "    def display_info(self):\n",
        "        print(f\"Name: {self.name}, Age: {self.age}, Occupation: {self.occupation}\")\n",
        "\n",
        "person = Person(\"John\")\n",
        "\n",
        "person.set_age(30).set_occupation(\"Software Engineer\").display_info()\n",
        "\n",
        "# Output: Name: John, Age: 30, Occupation: Software Engineer\n",
        "\n",
        "\n",
        "In this example, the set_age and set_occupation methods return self, allowing them to be chained together. The display_info method is then called to display the person's information.\n",
        "\n",
        "Benefits:\n",
        "\n",
        "1. Improved readability: Method chaining can improve code readability by reducing the need for temporary variables.\n",
        "2. Concise code: Method chaining enables you to write more concise code, making it easier to understand and maintain.\n",
        "3. Easier object configuration: Method chaining makes it easier to configure objects by allowing multiple settings to be applied in a single statement.\n",
        "\n",
        "Best Practices:\n",
        "\n",
        "1. Return self: Ensure that each method in the chain returns self to enable method chaining.\n",
        "2. Use meaningful method names: Use meaningful method names to make the code more readable and self-explanatory.\n",
        "3. Avoid over-chaining: Avoid over-chaining methods, as it can make the code harder to read and debug.\n",
        "\n",
        "By using method chaining, you can write more efficient, readable, and maintainable code in Python OOP."
      ],
      "metadata": {
        "id": "ewZTP1_wKbWy"
      }
    },
    {
      "cell_type": "markdown",
      "source": [
        "Question-25. What is the purpose of the __call__ method in Python?\n",
        "\n",
        "Answer-25. The __call__ method in Python is a special method that allows an instance of a class to be called as a function. This method is invoked when an instance is used as a callable.\n",
        "\n",
        "Purpose:\n",
        "\n",
        "1. Make instances callable: The __call__ method enables instances of a class to be used as callables, allowing them to behave like functions.\n",
        "2. Customizable behavior: By implementing the __call__ method, you can define custom behavior for instances of a class when they are called.\n",
        "\n",
        "Example:\n",
        "\n",
        "\n",
        "class Counter:\n",
        "\n",
        "    def __init__(self):\n",
        "        self.count = 0\n",
        "\n",
        "    def __call__(self):\n",
        "        self.count += 1\n",
        "        return self.count\n",
        "\n",
        "counter = Counter()\n",
        "\n",
        "print(counter())  # Output: 1\n",
        "\n",
        "print(counter())  # Output: 2\n",
        "x\n",
        "print(counter())  # Output: 3\n",
        "\n",
        "\n",
        "In this example, the Counter class implements the __call__ method, allowing instances to be used as callables. Each time an instance is called, the count is incremented and returned.\n",
        "\n",
        "Use Cases:\n",
        "\n",
        "1. Function-like objects: The __call__ method is useful when you want to create objects that behave like functions but also have additional attributes or methods.\n",
        "2. Stateful functions: By using the __call__ method, you can create stateful functions that maintain their state between calls.\n",
        "3. Decorators: The __call__ method is also used in decorators to wrap functions and modify their behavior.\n",
        "\n",
        "Benefits:\n",
        "\n",
        "1. Increased flexibility: The __call__ method provides increased flexibility in designing classes and objects.\n",
        "2. Customizable behavior: By implementing the __call__ method, you can define custom behavior for instances of a class.\n",
        "3. Improved readability: Using the __call__ method can improve code readability by allowing instances to be used in a more functional way.\n",
        "\n",
        "By understanding the __call__ method, you can create more flexible and customizable classes in Python."
      ],
      "metadata": {
        "id": "BaYuAabYKuQZ"
      }
    },
    {
      "cell_type": "markdown",
      "source": [
        "//////////////////////////////////////////////////////////////////////////////////////////////////////////////////////////////////////////////////"
      ],
      "metadata": {
        "id": "Hzwtc7yNK_wj"
      }
    },
    {
      "cell_type": "markdown",
      "source": [
        "# Practical **Questions**"
      ],
      "metadata": {
        "id": "ZQyUVEwfLmJ7"
      }
    },
    {
      "cell_type": "markdown",
      "source": [
        "Question-1. Create a parent class Animal with a method speak() that prints a generic message. Create a child class Dog that overrides the speak() method to print \"Bark!\".?\n",
        "\n",
        "Answer-1."
      ],
      "metadata": {
        "id": "wSESRC5ELtFX"
      }
    },
    {
      "cell_type": "code",
      "source": [
        "# Parent class\n",
        "class Animal:\n",
        "    def speak(self):\n",
        "        print(\"The animal makes a sound.\")\n",
        "\n",
        "# Child class\n",
        "class Dog(Animal):\n",
        "    def speak(self):\n",
        "        print(\"Bark!\")\n",
        "\n",
        "# Create instances\n",
        "generic_animal = Animal()\n",
        "dog = Dog()\n",
        "\n",
        "# Call speak() on both\n",
        "generic_animal.speak()\n",
        "dog.speak()\n"
      ],
      "metadata": {
        "colab": {
          "base_uri": "https://localhost:8080/"
        },
        "id": "bMRnuQtGTSfj",
        "outputId": "c5fdee34-05e0-40b8-8770-0bfa05777f68"
      },
      "execution_count": 9,
      "outputs": [
        {
          "output_type": "stream",
          "name": "stdout",
          "text": [
            "The animal makes a sound.\n",
            "Bark!\n"
          ]
        }
      ]
    },
    {
      "cell_type": "markdown",
      "source": [
        "Question-2. Write a program to create an abstract class Shape with a method area(). Derive classes Circle and Rectangle from it and implement the area() method in both.\n",
        "\n",
        "Answer-2."
      ],
      "metadata": {
        "id": "i7yRjmD1Tlel"
      }
    },
    {
      "cell_type": "code",
      "source": [
        "from abc import ABC, abstractmethod\n",
        "import math\n",
        "\n",
        "# Abstract base class\n",
        "class Shape(ABC):\n",
        "    @abstractmethod\n",
        "    def area(self):\n",
        "        pass\n",
        "\n",
        "# Derived class: Circle\n",
        "class Circle(Shape):\n",
        "    def __init__(self, radius):\n",
        "        self.radius = radius\n",
        "\n",
        "    def area(self):\n",
        "        return math.pi * self.radius ** 2\n",
        "\n",
        "# Derived class: Rectangle\n",
        "class Rectangle(Shape):\n",
        "    def __init__(self, width, height):\n",
        "        self.width = width\n",
        "        self.height = height\n",
        "\n",
        "    def area(self):\n",
        "        return self.width * self.height\n",
        "\n",
        "# Create instances and print their areas\n",
        "circle = Circle(5)\n",
        "rectangle = Rectangle(4, 6)\n",
        "\n",
        "print(f\"Area of Circle: {circle.area():.2f}\")\n",
        "print(f\"Area of Rectangle: {rectangle.area()}\")\n"
      ],
      "metadata": {
        "colab": {
          "base_uri": "https://localhost:8080/"
        },
        "id": "6Zgb5gXfTuoU",
        "outputId": "de82a301-5867-4612-97fb-714fccfd7e75"
      },
      "execution_count": 10,
      "outputs": [
        {
          "output_type": "stream",
          "name": "stdout",
          "text": [
            "Area of Circle: 78.54\n",
            "Area of Rectangle: 24\n"
          ]
        }
      ]
    },
    {
      "cell_type": "markdown",
      "source": [
        "Question-3.  Implement a multi-level inheritance scenario where a class Vehicle has an attribute type. Derive a class Car and further derive a class ElectricCar that adds a battery attribute.\n",
        "\n",
        "Answer-3."
      ],
      "metadata": {
        "id": "xGiV9lrBT3Zq"
      }
    },
    {
      "cell_type": "code",
      "source": [
        "# Base class\n",
        "class Vehicle:\n",
        "    def __init__(self, vehicle_type):\n",
        "        self.type = vehicle_type\n",
        "\n",
        "    def show_type(self):\n",
        "        print(f\"Vehicle type: {self.type}\")\n",
        "\n",
        "# First-level derived class\n",
        "class Car(Vehicle):\n",
        "    def __init__(self, vehicle_type, brand):\n",
        "        super().__init__(vehicle_type)\n",
        "        self.brand = brand\n",
        "\n",
        "    def show_brand(self):\n",
        "        print(f\"Car brand: {self.brand}\")\n",
        "\n",
        "# Second-level derived class\n",
        "class ElectricCar(Car):\n",
        "    def __init__(self, vehicle_type, brand, battery_capacity):\n",
        "        super().__init__(vehicle_type, brand)\n",
        "        self.battery = battery_capacity\n",
        "\n",
        "    def show_battery(self):\n",
        "        print(f\"Battery capacity: {self.battery} kWh\")\n",
        "\n",
        "# Create an instance of ElectricCar\n",
        "my_electric_car = ElectricCar(\"Electric\", \"Tesla\", 75)\n",
        "\n",
        "# Display all attributes\n",
        "my_electric_car.show_type()\n",
        "my_electric_car.show_brand()\n",
        "my_electric_car.show_battery()"
      ],
      "metadata": {
        "colab": {
          "base_uri": "https://localhost:8080/"
        },
        "id": "0tLNDxeGUKHL",
        "outputId": "bfe56a01-5e38-4e0d-c188-5b1080378def"
      },
      "execution_count": 11,
      "outputs": [
        {
          "output_type": "stream",
          "name": "stdout",
          "text": [
            "Vehicle type: Electric\n",
            "Car brand: Tesla\n",
            "Battery capacity: 75 kWh\n"
          ]
        }
      ]
    },
    {
      "cell_type": "markdown",
      "source": [],
      "metadata": {
        "id": "fnMEOkF6TNTS"
      }
    },
    {
      "cell_type": "markdown",
      "source": [
        "Question-4. Demonstrate polymorphism by creating a base class Bird with a method fly(). Create two derived classes Sparrow and Penguin that override the fly() method.\n",
        "\n",
        "Answer-4."
      ],
      "metadata": {
        "id": "-1UDWgCeUXrU"
      }
    },
    {
      "cell_type": "code",
      "source": [
        "# Base class\n",
        "class Bird:\n",
        "    def fly(self):\n",
        "        print(\"Some birds can fly.\")\n",
        "\n",
        "# Derived class\n",
        "class Sparrow(Bird):\n",
        "    def fly(self):\n",
        "        print(\"Sparrow flies high in the sky.\")\n",
        "\n",
        "# Derived class\n",
        "class Penguin(Bird):\n",
        "    def fly(self):\n",
        "        print(\"Penguins can't fly, they swim.\")\n",
        "\n",
        "# Polymorphic behavior\n",
        "def bird_flight(bird):\n",
        "    bird.fly()  # Calls the appropriate method based on object type\n",
        "\n",
        "# Create instances\n",
        "sparrow = Sparrow()\n",
        "penguin = Penguin()\n",
        "\n",
        "# Use polymorphism\n",
        "bird_flight(sparrow)\n",
        "bird_flight(penguin)\n",
        "\n",
        ""
      ],
      "metadata": {
        "colab": {
          "base_uri": "https://localhost:8080/"
        },
        "id": "WuZfZIeyUmzF",
        "outputId": "5ea77cd9-6d2c-4bdc-c084-1d4a2fe3b3dd"
      },
      "execution_count": 12,
      "outputs": [
        {
          "output_type": "stream",
          "name": "stdout",
          "text": [
            "Sparrow flies high in the sky.\n",
            "Penguins can't fly, they swim.\n"
          ]
        }
      ]
    },
    {
      "cell_type": "markdown",
      "source": [
        "Question-5. Write a program to demonstrate encapsulation by creating a class BankAccount with private attributes balance and methods to deposit, withdraw, and check balance.\n",
        "\n",
        "Answer-5."
      ],
      "metadata": {
        "id": "eUuTyo7zUsRw"
      }
    },
    {
      "cell_type": "code",
      "source": [
        "class BankAccount:\n",
        "    def __init__(self, initial_balance=0):\n",
        "        self.__balance = initial_balance  # Private attribute\n",
        "\n",
        "    def deposit(self, amount):\n",
        "        if amount > 0:\n",
        "            self.__balance += amount\n",
        "            print(f\"Deposited ${amount}.\")\n",
        "        else:\n",
        "            print(\"Deposit amount must be positive.\")\n",
        "\n",
        "    def withdraw(self, amount):\n",
        "        if 0 < amount <= self.__balance:\n",
        "            self.__balance -= amount\n",
        "            print(f\"Withdrew ${amount}.\")\n",
        "        else:\n",
        "            print(\"Insufficient funds or invalid amount.\")\n",
        "\n",
        "    def check_balance(self):\n",
        "        print(f\"Current balance: ${self.__balance}\")\n",
        "\n",
        "# Create a bank account\n",
        "account = BankAccount(100)\n",
        "\n",
        "# Test the encapsulated methods\n",
        "account.check_balance()\n",
        "account.deposit(50)\n",
        "account.withdraw(30)\n",
        "account.check_balance()\n"
      ],
      "metadata": {
        "colab": {
          "base_uri": "https://localhost:8080/"
        },
        "id": "LNGDWAJ7U6Z1",
        "outputId": "27052391-398f-480d-c125-1bad78700f06"
      },
      "execution_count": 13,
      "outputs": [
        {
          "output_type": "stream",
          "name": "stdout",
          "text": [
            "Current balance: $100\n",
            "Deposited $50.\n",
            "Withdrew $30.\n",
            "Current balance: $120\n"
          ]
        }
      ]
    },
    {
      "cell_type": "markdown",
      "source": [
        "Question-6. Demonstrate runtime polymorphism using a method play() in a base class Instrument. Derive classes Guitar and Piano that implement their own version of play().\n",
        "\n",
        "Answer-6."
      ],
      "metadata": {
        "id": "mbsjCbhaU9kE"
      }
    },
    {
      "cell_type": "code",
      "source": [
        "# Base class\n",
        "class Instrument:\n",
        "    def play(self):\n",
        "        print(\"The instrument is playing a sound.\")\n",
        "\n",
        "# Derived class\n",
        "class Guitar(Instrument):\n",
        "    def play(self):\n",
        "        print(\"Strumming the guitar.\")\n",
        "\n",
        "# Derived class\n",
        "class Piano(Instrument):\n",
        "    def play(self):\n",
        "        print(\"Playing the piano keys.\")\n",
        "\n",
        "# Polymorphic function\n",
        "def perform(instrument):\n",
        "    instrument.play()  # Calls the correct method based on object type at runtime\n",
        "\n",
        "# Create instances\n",
        "guitar = Guitar()\n",
        "piano = Piano()\n",
        "\n",
        "# Runtime polymorphism in action\n",
        "perform(guitar)\n",
        "perform(piano)\n"
      ],
      "metadata": {
        "colab": {
          "base_uri": "https://localhost:8080/"
        },
        "id": "HsItvBuBVDtj",
        "outputId": "e7731baf-29e8-4a06-b9c4-dded5a729aa9"
      },
      "execution_count": 14,
      "outputs": [
        {
          "output_type": "stream",
          "name": "stdout",
          "text": [
            "Strumming the guitar.\n",
            "Playing the piano keys.\n"
          ]
        }
      ]
    },
    {
      "cell_type": "markdown",
      "source": [
        "Question-7. Create a class MathOperations with a class method add_numbers() to add two numbers and a static method subtract_numbers() to subtract two numbers.\n",
        "\n",
        "Answer-7."
      ],
      "metadata": {
        "id": "dlwRNFWjVMEV"
      }
    },
    {
      "cell_type": "code",
      "source": [
        "class MathOperations:\n",
        "    @classmethod\n",
        "    def add_numbers(cls, a, b):\n",
        "        return a + b\n",
        "\n",
        "    @staticmethod\n",
        "    def subtract_numbers(a, b):\n",
        "        return a - b\n",
        "\n",
        "# Using the class method\n",
        "sum_result = MathOperations.add_numbers(10, 5)\n",
        "print(f\"Sum: {sum_result}\")  # Output: Sum: 15\n",
        "\n",
        "# Using the static method\n",
        "difference = MathOperations.subtract_numbers(10, 5)\n",
        "print(f\"Difference: {difference}\")"
      ],
      "metadata": {
        "colab": {
          "base_uri": "https://localhost:8080/"
        },
        "id": "kCoq_wUyVSrc",
        "outputId": "40a68fdd-9437-403d-fb05-29788d3f68e4"
      },
      "execution_count": 15,
      "outputs": [
        {
          "output_type": "stream",
          "name": "stdout",
          "text": [
            "Sum: 15\n",
            "Difference: 5\n"
          ]
        }
      ]
    },
    {
      "cell_type": "markdown",
      "source": [
        "Question-8. Implement a class Person with a class method to count the total number of persons created.\n",
        "\n",
        "Answer-8."
      ],
      "metadata": {
        "id": "sWDAeUFpVXxS"
      }
    },
    {
      "cell_type": "code",
      "source": [
        "class Person:\n",
        "    count = 0  # Class variable to track number of persons\n",
        "\n",
        "    def __init__(self, name):\n",
        "        self.name = name\n",
        "        Person.count += 1\n",
        "\n",
        "    @classmethod\n",
        "    def total_persons(cls):\n",
        "        return cls.count\n",
        "\n",
        "# Creating person instances\n",
        "p1 = Person(\"Alice\")\n",
        "p2 = Person(\"Bob\")\n",
        "p3 = Person(\"Charlie\")\n",
        "\n",
        "# Calling the class method to get total count\n",
        "print(f\"Total persons created: {Person.total_persons()}\")"
      ],
      "metadata": {
        "colab": {
          "base_uri": "https://localhost:8080/"
        },
        "id": "XUSO1UrAVePv",
        "outputId": "f2317c50-4b2d-4cd1-ae93-f292b6c5d30e"
      },
      "execution_count": 16,
      "outputs": [
        {
          "output_type": "stream",
          "name": "stdout",
          "text": [
            "Total persons created: 3\n"
          ]
        }
      ]
    },
    {
      "cell_type": "markdown",
      "source": [
        "Question-9. Write a class Fraction with attributes numerator and denominator. Override the str method to display the fraction as \"numerator/denominator\".\n",
        "\n",
        "Amswer-9."
      ],
      "metadata": {
        "id": "tyUhk2NlVh_d"
      }
    },
    {
      "cell_type": "code",
      "source": [
        "class Fraction:\n",
        "    def __init__(self, numerator, denominator):\n",
        "        self.numerator = numerator\n",
        "        self.denominator = denominator\n",
        "\n",
        "    def __str__(self):\n",
        "        return f\"{self.numerator}/{self.denominator}\"\n",
        "\n",
        "# Create a Fraction instance\n",
        "f1 = Fraction(3, 4)\n",
        "\n",
        "# Print the fraction\n",
        "print(f1)\n"
      ],
      "metadata": {
        "colab": {
          "base_uri": "https://localhost:8080/"
        },
        "id": "UQt4QiqMVsap",
        "outputId": "0c38e496-ad67-4464-ee57-431400641937"
      },
      "execution_count": 17,
      "outputs": [
        {
          "output_type": "stream",
          "name": "stdout",
          "text": [
            "3/4\n"
          ]
        }
      ]
    },
    {
      "cell_type": "markdown",
      "source": [
        "Question-10.  Demonstrate operator overloading by creating a class Vector and overriding the add method to add two vectors.\n",
        "\n",
        "Answer-10."
      ],
      "metadata": {
        "id": "j80UwXfMVuTx"
      }
    },
    {
      "cell_type": "code",
      "source": [
        "class Vector:\n",
        "    def __init__(self, x, y):\n",
        "        self.x = x\n",
        "        self.y = y\n",
        "\n",
        "    # Overloading the '+' operator using __add__\n",
        "    def __add__(self, other):\n",
        "        if isinstance(other, Vector):\n",
        "            return Vector(self.x + other.x, self.y + other.y)\n",
        "        return NotImplemented\n",
        "\n",
        "    def __str__(self):\n",
        "        return f\"({self.x}, {self.y})\"\n",
        "\n",
        "# Create two Vector instances\n",
        "v1 = Vector(2, 3)\n",
        "v2 = Vector(4, 5)\n",
        "\n",
        "# Add the two vectors using the overloaded '+' operator\n",
        "v3 = v1 + v2\n",
        "\n",
        "# Print the result\n",
        "print(f\"Result of adding vectors: {v3}\")"
      ],
      "metadata": {
        "colab": {
          "base_uri": "https://localhost:8080/"
        },
        "id": "FXTX9velVzO9",
        "outputId": "3c14dfb9-cae6-4cbf-a8a5-8e2df4705b2e"
      },
      "execution_count": 18,
      "outputs": [
        {
          "output_type": "stream",
          "name": "stdout",
          "text": [
            "Result of adding vectors: (6, 8)\n"
          ]
        }
      ]
    },
    {
      "cell_type": "markdown",
      "source": [
        "Question-11. Create a class Person with attributes name and age. Add a method greet() that prints \"Hello, my name is {name} and I am {age} years old.\"\n",
        "\n",
        "Answer-11."
      ],
      "metadata": {
        "id": "e6nidD5xV4H6"
      }
    },
    {
      "cell_type": "code",
      "source": [
        "class Person:\n",
        "    def __init__(self, name, age):\n",
        "        self.name = name\n",
        "        self.age = age\n",
        "\n",
        "    def greet(self):\n",
        "        print(f\"Hello, my name is {self.name} and I am {self.age} years old.\")\n",
        "\n",
        "# Create a Person instance\n",
        "person1 = Person(\"Dharam\", 24)\n",
        "\n",
        "# Call the greet() method\n",
        "person1.greet()"
      ],
      "metadata": {
        "colab": {
          "base_uri": "https://localhost:8080/"
        },
        "id": "WvYtKGZaWCFG",
        "outputId": "6b46e757-5ef4-46a3-f5e2-b5b0a16a513f"
      },
      "execution_count": 21,
      "outputs": [
        {
          "output_type": "stream",
          "name": "stdout",
          "text": [
            "Hello, my name is Dharam and I am 24 years old.\n"
          ]
        }
      ]
    },
    {
      "cell_type": "markdown",
      "source": [
        "Question-12.  Implement a class Student with attributes name and grades. Create a method average_grade() to compute the average of the grades.\n",
        "\n",
        "Answer.12.\n"
      ],
      "metadata": {
        "id": "gV0KisbnWD0_"
      }
    },
    {
      "cell_type": "code",
      "source": [
        "class Student:\n",
        "    def __init__(self, name, grades):\n",
        "        self.name = name\n",
        "        self.grades = grades\n",
        "\n",
        "    def average_grade(self):\n",
        "        return sum(self.grades) / len(self.grades) if self.grades else 0\n",
        "\n",
        "# Create a Student instance\n",
        "student1 = Student(\"Dharam\", [85, 90, 78, 92, 88])\n",
        "\n",
        "# Call the average_grade() method\n",
        "average = student1.average_grade()\n",
        "print(f\"{student1.name}'s average grade is: {average:.2f}\")"
      ],
      "metadata": {
        "colab": {
          "base_uri": "https://localhost:8080/"
        },
        "id": "pvI9C7wBWHqB",
        "outputId": "e39db411-c02b-4052-d7ed-08946b417b26"
      },
      "execution_count": 22,
      "outputs": [
        {
          "output_type": "stream",
          "name": "stdout",
          "text": [
            "Dharam's average grade is: 86.60\n"
          ]
        }
      ]
    },
    {
      "cell_type": "markdown",
      "source": [
        "Question-13. Create a class Rectangle with methods set_dimensions() to set the dimensions and area() to calculate the area.\n",
        "\n",
        "Answer-13."
      ],
      "metadata": {
        "id": "fX8UYqgMWYTK"
      }
    },
    {
      "cell_type": "code",
      "source": [
        "class Rectangle:\n",
        "    def __init__(self):\n",
        "        self.length = 0\n",
        "        self.width = 0\n",
        "\n",
        "    def set_dimensions(self, length, width):\n",
        "        self.length = length\n",
        "        self.width = width\n",
        "\n",
        "    def area(self):\n",
        "        return self.length * self.width\n",
        "\n",
        "# Create a Rectangle instance\n",
        "rectangle1 = Rectangle()\n",
        "\n",
        "# Set dimensions of the rectangle\n",
        "rectangle1.set_dimensions(5, 3)\n",
        "\n",
        "# Calculate and print the area\n",
        "print(f\"The area of the rectangle is: {rectangle1.area()}\")"
      ],
      "metadata": {
        "colab": {
          "base_uri": "https://localhost:8080/"
        },
        "id": "b_iaX_ETWeCu",
        "outputId": "9c314310-66e8-455e-98ad-5bdf3c3970b8"
      },
      "execution_count": 23,
      "outputs": [
        {
          "output_type": "stream",
          "name": "stdout",
          "text": [
            "The area of the rectangle is: 15\n"
          ]
        }
      ]
    },
    {
      "cell_type": "markdown",
      "source": [
        "Question-14. Create a class Employee with a method calculate_salary() that computes the salary based on hours worked and hourly rate. Create a derived class Manager that adds a bonus to the salary.\n",
        "\n",
        "Answer-14.\n"
      ],
      "metadata": {
        "id": "sEfWlTFGWh7S"
      }
    },
    {
      "cell_type": "code",
      "source": [
        "# Base class: Employee\n",
        "class Employee:\n",
        "    def __init__(self, name, hours_worked, hourly_rate):\n",
        "        self.name = name\n",
        "        self.hours_worked = hours_worked\n",
        "        self.hourly_rate = hourly_rate\n",
        "\n",
        "    def calculate_salary(self):\n",
        "        return self.hours_worked * self.hourly_rate\n",
        "\n",
        "# Derived class: Manager\n",
        "class Manager(Employee):\n",
        "    def __init__(self, name, hours_worked, hourly_rate, bonus):\n",
        "        super().__init__(name, hours_worked, hourly_rate)\n",
        "        self.bonus = bonus\n",
        "\n",
        "    def calculate_salary(self):\n",
        "        base_salary = super().calculate_salary()  # Get salary from the base class\n",
        "        return base_salary + self.bonus  # Add bonus to the base salary\n",
        "\n",
        "# Create an Employee instance\n",
        "employee = Employee(\"Dharam\", 160, 25)\n",
        "\n",
        "# Create a Manager instance\n",
        "manager = Manager(\"Saba\", 160, 30, 5000)\n",
        "\n",
        "# Calculate and print the salary for both Employee and Manager\n",
        "print(f\"{employee.name}'s salary: ${employee.calculate_salary()}\")\n",
        "print(f\"{manager.name}'s salary: ${manager.calculate_salary()}\")\n"
      ],
      "metadata": {
        "colab": {
          "base_uri": "https://localhost:8080/"
        },
        "id": "KK7hEjAyWnFZ",
        "outputId": "8b30b7c1-2b59-41db-d17b-a072e8c0e01e"
      },
      "execution_count": 24,
      "outputs": [
        {
          "output_type": "stream",
          "name": "stdout",
          "text": [
            "Dharam's salary: $4000\n",
            "Saba's salary: $9800\n"
          ]
        }
      ]
    },
    {
      "cell_type": "markdown",
      "source": [
        "Question-15. Create a class Product with attributes name, price, and quantity. Implement a method total_price() that calculates the total price of the product.\n",
        "\n",
        "Amswer-15."
      ],
      "metadata": {
        "id": "gHZoj6BjXEiZ"
      }
    },
    {
      "cell_type": "code",
      "source": [
        "class Product:\n",
        "    def __init__(self, name, price, quantity):\n",
        "        self.name = name\n",
        "        self.price = price\n",
        "        self.quantity = quantity\n",
        "\n",
        "    def total_price(self):\n",
        "        return self.price * self.quantity\n",
        "\n",
        "# Create a Product instance\n",
        "product1 = Product(\"Laptop\", 1000, 3)\n",
        "\n",
        "# Calculate and print the total price of the product\n",
        "print(f\"The total price of {product1.name} is: ${product1.total_price()}\")\n"
      ],
      "metadata": {
        "colab": {
          "base_uri": "https://localhost:8080/"
        },
        "id": "XmGF4qGzXKrn",
        "outputId": "232240bf-6e2c-4dd6-9a8f-5215a8f4b396"
      },
      "execution_count": 25,
      "outputs": [
        {
          "output_type": "stream",
          "name": "stdout",
          "text": [
            "The total price of Laptop is: $3000\n"
          ]
        }
      ]
    },
    {
      "cell_type": "markdown",
      "source": [
        "Question-16. Create a class Animal with an abstract method sound(). Create two derived classes Cow and Sheep that implement the sound() method.\n",
        "\n",
        "Answer-16."
      ],
      "metadata": {
        "id": "jRVcBrBnXOpv"
      }
    },
    {
      "cell_type": "code",
      "source": [
        "from abc import ABC, abstractmethod\n",
        "\n",
        "# Abstract base class\n",
        "class Animal(ABC):\n",
        "    @abstractmethod\n",
        "    def sound(self):\n",
        "        pass\n",
        "\n",
        "# Derived class: Cow\n",
        "class Cow(Animal):\n",
        "    def sound(self):\n",
        "        return \"Moo\"\n",
        "\n",
        "# Derived class: Sheep\n",
        "class Sheep(Animal):\n",
        "    def sound(self):\n",
        "        return \"Baa\"\n",
        "\n",
        "# Create instances and call sound()\n",
        "cow = Cow()\n",
        "sheep = Sheep()\n",
        "\n",
        "print(f\"Cow says: {cow.sound()}\")\n",
        "print(f\"Sheep says: {sheep.sound()}\")\n"
      ],
      "metadata": {
        "colab": {
          "base_uri": "https://localhost:8080/"
        },
        "id": "SA2qiKDGXWVe",
        "outputId": "4b8b6633-e025-4f76-f520-8fe5ca317ea7"
      },
      "execution_count": 26,
      "outputs": [
        {
          "output_type": "stream",
          "name": "stdout",
          "text": [
            "Cow says: Moo\n",
            "Sheep says: Baa\n"
          ]
        }
      ]
    },
    {
      "cell_type": "markdown",
      "source": [
        "Question-17. Create a class Book with attributes title, author, and year_published. Add a method get_book_info() that returns a formatted string with the book's details.\n",
        "\n",
        "Answer-17."
      ],
      "metadata": {
        "id": "jTlFZ3YxXaYS"
      }
    },
    {
      "cell_type": "code",
      "source": [
        "class Book:\n",
        "    def __init__(self, title, author, year_published):\n",
        "        self.title = title\n",
        "        self.author = author\n",
        "        self.year_published = year_published\n",
        "\n",
        "    def get_book_info(self):\n",
        "        return f\"'{self.title}' by {self.author}, published in {self.year_published}\"\n",
        "\n",
        "# Create a Book instance\n",
        "book1 = Book(\"1984\", \"George Orwell\", 1949)\n",
        "\n",
        "# Get and print book information\n",
        "print(book1.get_book_info())"
      ],
      "metadata": {
        "colab": {
          "base_uri": "https://localhost:8080/"
        },
        "id": "tP3b07ZkXiLm",
        "outputId": "54fdb442-b6ea-4e22-b1b8-705222c0e758"
      },
      "execution_count": 27,
      "outputs": [
        {
          "output_type": "stream",
          "name": "stdout",
          "text": [
            "'1984' by George Orwell, published in 1949\n"
          ]
        }
      ]
    },
    {
      "cell_type": "markdown",
      "source": [
        "Question-18. Create a class House with attributes address and price. Create a derived class Mansion that adds an attribute number_of_rooms.\n",
        "\n",
        "Answer-18."
      ],
      "metadata": {
        "id": "XcQej9ztXkva"
      }
    },
    {
      "cell_type": "code",
      "source": [
        "# Base class\n",
        "class House:\n",
        "    def __init__(self, address, price):\n",
        "        self.address = address\n",
        "        self.price = price\n",
        "\n",
        "    def get_info(self):\n",
        "        return f\"Address: {self.address}, Price: ${self.price}\"\n",
        "\n",
        "# Derived class\n",
        "class Mansion(House):\n",
        "    def __init__(self, address, price, number_of_rooms):\n",
        "        super().__init__(address, price)\n",
        "        self.number_of_rooms = number_of_rooms\n",
        "\n",
        "    def get_info(self):\n",
        "        base_info = super().get_info()\n",
        "        return f\"{base_info}, Rooms: {self.number_of_rooms}\"\n",
        "\n",
        "# Create an instance of Mansion\n",
        "mansion1 = Mansion(\"sagar Luxury Lane\", 5000000, 10)\n",
        "\n",
        "# Print mansion information\n",
        "print(mansion1.get_info())\n"
      ],
      "metadata": {
        "colab": {
          "base_uri": "https://localhost:8080/"
        },
        "id": "Ke4PLX0hXqsU",
        "outputId": "dbbbcbcc-d023-41eb-a5bb-41c1156ddbcc"
      },
      "execution_count": 28,
      "outputs": [
        {
          "output_type": "stream",
          "name": "stdout",
          "text": [
            "Address: 123 Luxury Lane, Price: $5000000, Rooms: 10\n"
          ]
        }
      ]
    }
  ]
}